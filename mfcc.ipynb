{
 "cells": [
  {
   "cell_type": "code",
   "execution_count": 1,
   "metadata": {},
   "outputs": [],
   "source": [
    "import math\n",
    "\n",
    "# Định nghĩa các hằng số\n",
    "SAMP_FREQ = 4000  # Tần số mẫu, cần được định nghĩa ở đây nếu chưa có\n",
    "NUM_FRAMES = 30\n",
    "NUM_MFCC_COEFFS = 10\n",
    "MFCC_DEC_BITS = 4\n",
    "FRAME_SHIFT_MS = 100\n",
    "FRAME_LEN_MS = 100\n",
    "\n",
    "# Tính toán các giá trị\n",
    "FRAME_SHIFT = int(SAMP_FREQ * 0.001 * FRAME_SHIFT_MS)\n",
    "MFCC_BUFFER_SIZE = NUM_FRAMES * NUM_MFCC_COEFFS\n",
    "FRAME_LEN = int(SAMP_FREQ * 0.001 * FRAME_LEN_MS)\n",
    "\n",
    "# Khởi tạo các biến\n",
    "num_frames = NUM_FRAMES\n",
    "num_mfcc_features = NUM_MFCC_COEFFS\n",
    "frame_shift = FRAME_SHIFT\n",
    "recording_win = NUM_FRAMES\n",
    "frame_len = FRAME_LEN\n",
    "mfcc_dec_bits = MFCC_DEC_BITS\n"
   ]
  },
  {
   "cell_type": "code",
   "execution_count": 31,
   "metadata": {},
   "outputs": [],
   "source": [
    "import numpy as np\n",
    "from scipy.fftpack import dct\n",
    "from scipy.fft import rfft, rfftfreq\n",
    "\n",
    "class MFCC:\n",
    "    def __init__(self, num_mfcc_features, frame_len, mfcc_dec_bits):\n",
    "        self.num_mfcc_features = num_mfcc_features\n",
    "        self.frame_len = frame_len\n",
    "        self.mfcc_dec_bits = mfcc_dec_bits\n",
    "        \n",
    "        # Round-up to nearest power of 2\n",
    "        self.frame_len_padded = 2 ** int(np.ceil(np.log2(frame_len)))\n",
    "        \n",
    "        self.frame = np.zeros(self.frame_len_padded)\n",
    "        self.buffer = np.zeros(self.frame_len_padded)\n",
    "        self.mel_energies = np.zeros(10)\n",
    "        \n",
    "        # Create window function\n",
    "        self.window_func = 0.5 - 0.5 * np.cos(2 * np.pi * np.arange(self.frame_len) / self.frame_len)\n",
    "        \n",
    "        # Create mel filterbank\n",
    "        self.mel_fbank, self.fbank_filter_first, self.fbank_filter_last = self.create_mel_fbank()\n",
    "        \n",
    "        # Create DCT matrix\n",
    "        self.dct_matrix = self.create_dct_matrix(10, num_mfcc_features)\n",
    "        \n",
    "    def mel_scale(self, freq):\n",
    "        return 1127.0 * np.log1p(freq / 700.0)\n",
    "    \n",
    "    def inverse_mel_scale(self, mel_freq):\n",
    "        return 700.0 * (np.exp(mel_freq / 1127.0) - 1.0)\n",
    "    \n",
    "    def create_dct_matrix(self, input_length, coefficient_count):\n",
    "        M = np.zeros((coefficient_count, input_length))\n",
    "        normalizer = np.sqrt(2.0 / input_length)\n",
    "        for k in range(coefficient_count):\n",
    "            for n in range(input_length):\n",
    "                M[k, n] = normalizer * np.cos(np.pi / input_length * (n + 0.5) * k)\n",
    "        return M\n",
    "    \n",
    "    def create_mel_fbank(self):\n",
    "        num_fbanks = 10\n",
    "        num_fft_bins = self.frame_len_padded // 2\n",
    "        fft_bin_width = 4000.0 / self.frame_len_padded\n",
    "        mel_low_freq = self.mel_scale(80)\n",
    "        mel_high_freq = self.mel_scale(2000)\n",
    "        mel_freq_delta = (mel_high_freq - mel_low_freq) / (num_fbanks + 1)\n",
    "        \n",
    "        mel_fbank = []\n",
    "        fbank_filter_first = np.zeros(num_fbanks, dtype=int)\n",
    "        fbank_filter_last = np.zeros(num_fbanks, dtype=int)\n",
    "        \n",
    "        for bin in range(num_fbanks):\n",
    "            left_mel = mel_low_freq + bin * mel_freq_delta\n",
    "            center_mel = mel_low_freq + (bin + 1) * mel_freq_delta\n",
    "            right_mel = mel_low_freq + (bin + 2) * mel_freq_delta\n",
    "            \n",
    "            first_index, last_index = -1, -1\n",
    "            this_bin = np.zeros(num_fft_bins)\n",
    "            \n",
    "            for i in range(num_fft_bins):\n",
    "                freq = fft_bin_width * i\n",
    "                mel = self.mel_scale(freq)\n",
    "                if left_mel < mel < right_mel:\n",
    "                    weight = (mel - left_mel) / (center_mel - left_mel) if mel <= center_mel else (right_mel - mel) / (right_mel - center_mel)\n",
    "                    this_bin[i] = weight\n",
    "                    if first_index == -1:\n",
    "                        first_index = i\n",
    "                    last_index = i\n",
    "            \n",
    "            fbank_filter_first[bin] = first_index\n",
    "            fbank_filter_last[bin] = last_index\n",
    "            mel_fbank.append(this_bin[first_index:last_index + 1])\n",
    "        \n",
    "        return mel_fbank, fbank_filter_first, fbank_filter_last\n",
    "    \n",
    "    def mfcc_compute(self, audio_data):\n",
    "        # Normalize and apply window function\n",
    "        self.frame[:self.frame_len] = audio_data / (1 << 15)\n",
    "        self.frame[:self.frame_len] *= self.window_func\n",
    "        \n",
    "        # Compute FFT\n",
    "        fft_result = rfft(self.frame)\n",
    "        power_spectrum = np.abs(fft_result) ** 2\n",
    "        power_spectrum[0] = power_spectrum[1] = np.mean(power_spectrum[1:3])  # Handle DC and Nyquist\n",
    "        \n",
    "        # Apply Mel filterbanks\n",
    "        for bin in range(10):\n",
    "            first_index = self.fbank_filter_first[bin]\n",
    "            last_index = self.fbank_filter_last[bin]\n",
    "            mel_energy = np.sum(np.sqrt(power_spectrum[first_index:last_index + 1]) * self.mel_fbank[bin])\n",
    "            self.mel_energies[bin] = mel_energy if mel_energy > 0 else np.finfo(float).tiny\n",
    "        \n",
    "        # Take log\n",
    "        self.mel_energies = np.log(self.mel_energies)\n",
    "        \n",
    "        # Take DCT\n",
    "        mfcc_out = self.mel_energies\n",
    "        return mfcc_out\n"
   ]
  },
  {
   "cell_type": "code",
   "execution_count": 32,
   "metadata": {},
   "outputs": [],
   "source": [
    "def extract_features(audio_buffer):\n",
    "    global mfcc_matrix\n",
    "    \n",
    "    # Tính toán chỉ số để lưu trữ đặc trưng MFCC vào ma trận\n",
    "    mfcc_buffer_head = (num_frames - recording_win) * num_mfcc_features\n",
    "    \n",
    "    # Tính toán đặc trưng MFCC\n",
    "    buff = mfcc.mfcc_compute(audio_buffer)  # Truyền vào hai đối số: audio_buffer và mfcc_buffer\n",
    "    \n",
    "    # Lưu trữ các đặc trưng MFCC đã tính vào ma trận mfcc_matrix toàn cục\n",
    " #   mfcc_matrix[:, mfcc_buffer_head // num_mfcc_features] = buff \n",
    "    return buff\n",
    "\n",
    "# Ví dụ sử dụng\n",
    "def load_wav(file_path, channel=0):\n",
    "    from scipy.io import wavfile\n",
    "    sample_rate, data = wavfile.read(file_path)\n",
    "    if data.ndim == 2:\n",
    "        data = data[:, channel]\n",
    "    data = data / np.max(np.abs(data))  # Chuẩn hóa\n",
    "    return sample_rate, data\n",
    "\n",
    "file_path = 'khokhe.wav'\n",
    "sample_rate, audio_data = load_wav(file_path, channel=0)\n",
    "\n",
    "# Khởi tạo MFCC\n",
    "mfcc = MFCC(num_mfcc_features, frame_len, mfcc_dec_bits)\n",
    "recording_win = num_frames\n"
   ]
  },
  {
   "cell_type": "code",
   "execution_count": 33,
   "metadata": {},
   "outputs": [
    {
     "data": {
      "text/plain": [
       "(10,)"
      ]
     },
     "execution_count": 33,
     "metadata": {},
     "output_type": "execute_result"
    }
   ],
   "source": [
    "a = extract_features(audio_data[0:400])\n",
    "np.shape(a)"
   ]
  },
  {
   "cell_type": "code",
   "execution_count": 34,
   "metadata": {},
   "outputs": [
    {
     "data": {
      "text/html": [
       "<div>\n",
       "<style scoped>\n",
       "    .dataframe tbody tr th:only-of-type {\n",
       "        vertical-align: middle;\n",
       "    }\n",
       "\n",
       "    .dataframe tbody tr th {\n",
       "        vertical-align: top;\n",
       "    }\n",
       "\n",
       "    .dataframe thead th {\n",
       "        text-align: right;\n",
       "    }\n",
       "</style>\n",
       "<table border=\"1\" class=\"dataframe\">\n",
       "  <thead>\n",
       "    <tr style=\"text-align: right;\">\n",
       "      <th></th>\n",
       "      <th>sample1</th>\n",
       "      <th>sample2</th>\n",
       "      <th>sample3</th>\n",
       "      <th>sample4</th>\n",
       "      <th>sample5</th>\n",
       "      <th>sample6</th>\n",
       "      <th>sample7</th>\n",
       "      <th>sample8</th>\n",
       "      <th>sample9</th>\n",
       "      <th>sample10</th>\n",
       "      <th>...</th>\n",
       "      <th>sample21</th>\n",
       "      <th>sample22</th>\n",
       "      <th>sample23</th>\n",
       "      <th>sample24</th>\n",
       "      <th>sample25</th>\n",
       "      <th>sample26</th>\n",
       "      <th>sample27</th>\n",
       "      <th>sample28</th>\n",
       "      <th>sample29</th>\n",
       "      <th>sample30</th>\n",
       "    </tr>\n",
       "  </thead>\n",
       "  <tbody>\n",
       "    <tr>\n",
       "      <th>0</th>\n",
       "      <td>-3</td>\n",
       "      <td>7</td>\n",
       "      <td>5</td>\n",
       "      <td>5</td>\n",
       "      <td>5</td>\n",
       "      <td>-2</td>\n",
       "      <td>5</td>\n",
       "      <td>-6</td>\n",
       "      <td>5</td>\n",
       "      <td>-4</td>\n",
       "      <td>...</td>\n",
       "      <td>67</td>\n",
       "      <td>-13</td>\n",
       "      <td>-6</td>\n",
       "      <td>-24</td>\n",
       "      <td>-3</td>\n",
       "      <td>-12</td>\n",
       "      <td>11</td>\n",
       "      <td>8</td>\n",
       "      <td>-24</td>\n",
       "      <td>-4</td>\n",
       "    </tr>\n",
       "    <tr>\n",
       "      <th>1</th>\n",
       "      <td>-1</td>\n",
       "      <td>6</td>\n",
       "      <td>7</td>\n",
       "      <td>4</td>\n",
       "      <td>7</td>\n",
       "      <td>0</td>\n",
       "      <td>5</td>\n",
       "      <td>-7</td>\n",
       "      <td>4</td>\n",
       "      <td>-2</td>\n",
       "      <td>...</td>\n",
       "      <td>66</td>\n",
       "      <td>-9</td>\n",
       "      <td>-6</td>\n",
       "      <td>-25</td>\n",
       "      <td>-5</td>\n",
       "      <td>-11</td>\n",
       "      <td>11</td>\n",
       "      <td>2</td>\n",
       "      <td>-25</td>\n",
       "      <td>-6</td>\n",
       "    </tr>\n",
       "    <tr>\n",
       "      <th>2</th>\n",
       "      <td>-1</td>\n",
       "      <td>4</td>\n",
       "      <td>7</td>\n",
       "      <td>5</td>\n",
       "      <td>7</td>\n",
       "      <td>-2</td>\n",
       "      <td>4</td>\n",
       "      <td>-8</td>\n",
       "      <td>5</td>\n",
       "      <td>-2</td>\n",
       "      <td>...</td>\n",
       "      <td>65</td>\n",
       "      <td>-8</td>\n",
       "      <td>-6</td>\n",
       "      <td>-23</td>\n",
       "      <td>-5</td>\n",
       "      <td>-10</td>\n",
       "      <td>10</td>\n",
       "      <td>8</td>\n",
       "      <td>-23</td>\n",
       "      <td>-9</td>\n",
       "    </tr>\n",
       "    <tr>\n",
       "      <th>3</th>\n",
       "      <td>-3</td>\n",
       "      <td>1</td>\n",
       "      <td>8</td>\n",
       "      <td>-2</td>\n",
       "      <td>6</td>\n",
       "      <td>-2</td>\n",
       "      <td>4</td>\n",
       "      <td>-7</td>\n",
       "      <td>-2</td>\n",
       "      <td>-6</td>\n",
       "      <td>...</td>\n",
       "      <td>65</td>\n",
       "      <td>-6</td>\n",
       "      <td>-6</td>\n",
       "      <td>-21</td>\n",
       "      <td>-3</td>\n",
       "      <td>-11</td>\n",
       "      <td>9</td>\n",
       "      <td>5</td>\n",
       "      <td>-21</td>\n",
       "      <td>-9</td>\n",
       "    </tr>\n",
       "    <tr>\n",
       "      <th>4</th>\n",
       "      <td>2</td>\n",
       "      <td>1</td>\n",
       "      <td>12</td>\n",
       "      <td>0</td>\n",
       "      <td>6</td>\n",
       "      <td>-1</td>\n",
       "      <td>3</td>\n",
       "      <td>-7</td>\n",
       "      <td>0</td>\n",
       "      <td>-5</td>\n",
       "      <td>...</td>\n",
       "      <td>63</td>\n",
       "      <td>-5</td>\n",
       "      <td>-5</td>\n",
       "      <td>-19</td>\n",
       "      <td>-3</td>\n",
       "      <td>-10</td>\n",
       "      <td>10</td>\n",
       "      <td>3</td>\n",
       "      <td>-19</td>\n",
       "      <td>-9</td>\n",
       "    </tr>\n",
       "  </tbody>\n",
       "</table>\n",
       "<p>5 rows × 30 columns</p>\n",
       "</div>"
      ],
      "text/plain": [
       "   sample1  sample2  sample3  sample4  sample5  sample6  sample7  sample8  \\\n",
       "0       -3        7        5        5        5       -2        5       -6   \n",
       "1       -1        6        7        4        7        0        5       -7   \n",
       "2       -1        4        7        5        7       -2        4       -8   \n",
       "3       -3        1        8       -2        6       -2        4       -7   \n",
       "4        2        1       12        0        6       -1        3       -7   \n",
       "\n",
       "   sample9  sample10  ...  sample21  sample22  sample23  sample24  sample25  \\\n",
       "0        5        -4  ...        67       -13        -6       -24        -3   \n",
       "1        4        -2  ...        66        -9        -6       -25        -5   \n",
       "2        5        -2  ...        65        -8        -6       -23        -5   \n",
       "3       -2        -6  ...        65        -6        -6       -21        -3   \n",
       "4        0        -5  ...        63        -5        -5       -19        -3   \n",
       "\n",
       "   sample26  sample27  sample28  sample29  sample30  \n",
       "0       -12        11         8       -24        -4  \n",
       "1       -11        11         2       -25        -6  \n",
       "2       -10        10         8       -23        -9  \n",
       "3       -11         9         5       -21        -9  \n",
       "4       -10        10         3       -19        -9  \n",
       "\n",
       "[5 rows x 30 columns]"
      ]
     },
     "execution_count": 34,
     "metadata": {},
     "output_type": "execute_result"
    }
   ],
   "source": [
    "import pandas as pd\n",
    "df = pd.read_csv('breath_10s.csv')\n",
    "df.head()"
   ]
  },
  {
   "cell_type": "code",
   "execution_count": 35,
   "metadata": {},
   "outputs": [
    {
     "data": {
      "text/plain": [
       "40000"
      ]
     },
     "execution_count": 35,
     "metadata": {},
     "output_type": "execute_result"
    }
   ],
   "source": [
    "test = np.array(df['sample12'])\n",
    "test = test[::2]\n",
    "len(test)"
   ]
  },
  {
   "cell_type": "code",
   "execution_count": 36,
   "metadata": {},
   "outputs": [],
   "source": [
    "result = []\n",
    "for i in range(1, 101):\n",
    "    result.append(np.array(extract_features(test[(i-1)*400:i*400])))"
   ]
  },
  {
   "cell_type": "code",
   "execution_count": 37,
   "metadata": {},
   "outputs": [
    {
     "data": {
      "text/plain": [
       "(100, 10)"
      ]
     },
     "execution_count": 37,
     "metadata": {},
     "output_type": "execute_result"
    }
   ],
   "source": [
    "result = np.array(result)\n",
    "np.shape(result)"
   ]
  },
  {
   "cell_type": "code",
   "execution_count": 38,
   "metadata": {},
   "outputs": [],
   "source": [
    "result = result-10"
   ]
  },
  {
   "cell_type": "code",
   "execution_count": 39,
   "metadata": {},
   "outputs": [
    {
     "data": {
      "text/plain": [
       "-11.876921377076437"
      ]
     },
     "execution_count": 39,
     "metadata": {},
     "output_type": "execute_result"
    }
   ],
   "source": [
    "np.max(result)"
   ]
  },
  {
   "cell_type": "code",
   "execution_count": 40,
   "metadata": {},
   "outputs": [
    {
     "data": {
      "text/plain": [
       "<matplotlib.collections.QuadMesh at 0x14ca5c28c50>"
      ]
     },
     "execution_count": 40,
     "metadata": {},
     "output_type": "execute_result"
    },
    {
     "data": {
      "image/png": "[encoded data removed]",
      "text/plain": [
       "<Figure size 640x480 with 1 Axes>"
      ]
     },
     "metadata": {},
     "output_type": "display_data"
    }
   ],
   "source": [
    "import librosa\n",
    "import librosa.display\n",
    "import matplotlib.pyplot as plt\n",
    "librosa.display.specshow(result.T, sr=4000, x_axis='time', y_axis='mel')"
   ]
  },
  {
   "cell_type": "code",
   "execution_count": 20,
   "metadata": {},
   "outputs": [
    {
     "data": {
      "text/plain": [
       "-10.035218099210814"
      ]
     },
     "execution_count": 20,
     "metadata": {},
     "output_type": "execute_result"
    }
   ],
   "source": [
    "np.min(result)"
   ]
  },
  {
   "cell_type": "code",
   "execution_count": 41,
   "metadata": {},
   "outputs": [
    {
     "data": {
      "text/plain": [
       "<matplotlib.collections.QuadMesh at 0x14ca64537a0>"
      ]
     },
     "execution_count": 41,
     "metadata": {},
     "output_type": "execute_result"
    },
    {
     "data": {
      "image/png": "[encoded data removed]",
      "text/plain": [
       "<Figure size 640x480 with 1 Axes>"
      ]
     },
     "metadata": {},
     "output_type": "display_data"
    }
   ],
   "source": [
    "audio_data = np.array(test, dtype=np.float32)\n",
    "mel = librosa.feature.melspectrogram(y=audio_data, sr=4000, n_mels=10)\n",
    "mel = librosa.power_to_db(mel, ref=np.max)\n",
    "librosa.display.specshow(mel, sr=4000, x_axis='time', y_axis='mel')"
   ]
  },
  {
   "cell_type": "code",
   "execution_count": 112,
   "metadata": {},
   "outputs": [
    {
     "data": {
      "text/plain": [
       "0.0"
      ]
     },
     "execution_count": 112,
     "metadata": {},
     "output_type": "execute_result"
    }
   ],
   "source": [
    "np.max(mel)"
   ]
  },
  {
   "cell_type": "code",
   "execution_count": null,
   "metadata": {},
   "outputs": [],
   "source": []
  }
 ],
 "metadata": {
  "kernelspec": {
   "display_name": "Python 3",
   "language": "python",
   "name": "python3"
  },
  "language_info": {
   "codemirror_mode": {
    "name": "ipython",
    "version": 3
   },
   "file_extension": ".py",
   "mimetype": "text/x-python",
   "name": "python",
   "nbconvert_exporter": "python",
   "pygments_lexer": "ipython3",
   "version": "3.12.2"
  }
 },
 "nbformat": 4,
 "nbformat_minor": 2
}
